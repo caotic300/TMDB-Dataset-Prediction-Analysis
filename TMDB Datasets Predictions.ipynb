{
 "cells": [
  {
   "cell_type": "markdown",
   "metadata": {},
   "source": [
    "# Predictions on TMDB Datasets\n",
    "\n",
    "This is a machine learning project that will consist on predicting different things about the TMDB Datasets.\n",
    "\n",
    "## Predicting revenue based on budget, runtime and popularity\n",
    "\n",
    "## Classifying \n"
   ]
  }
 ],
 "metadata": {
  "kernelspec": {
   "display_name": "Python 3",
   "language": "python",
   "name": "python3"
  },
  "language_info": {
   "codemirror_mode": {
    "name": "ipython",
    "version": 3
   },
   "file_extension": ".py",
   "mimetype": "text/x-python",
   "name": "python",
   "nbconvert_exporter": "python",
   "pygments_lexer": "ipython3",
   "version": "3.8.3"
  }
 },
 "nbformat": 4,
 "nbformat_minor": 4
}
